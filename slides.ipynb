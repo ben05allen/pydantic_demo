{
 "cells": [
  {
   "cell_type": "code",
   "execution_count": 1,
   "metadata": {},
   "outputs": [],
   "source": [
    "import datetime\n",
    "from pydantic import BaseModel, ConfigDict, Field, field_validator, model_validator"
   ]
  },
  {
   "cell_type": "code",
   "execution_count": 2,
   "metadata": {},
   "outputs": [],
   "source": [
    "def to_csv(string: str) -> str:\n",
    "    return \" \".join(word.capitalize() for word in string.split(\"_\"))"
   ]
  },
  {
   "cell_type": "code",
   "execution_count": 3,
   "metadata": {},
   "outputs": [],
   "source": [
    "def wrangle_dates(value):\n",
    "    formats = [\n",
    "        \"%Y-%m-%d\",\n",
    "        \"%d/%m/%Y\",\n",
    "        \"%d/%m/%y\",\n",
    "        \"%d-%m-%Y\",\n",
    "        \"%d-%b-%Y\",\n",
    "    ]\n",
    "\n",
    "    for format in formats:\n",
    "        try:\n",
    "            return datetime.datetime.strptime(str(value).strip(), format)\n",
    "        except ValueError:\n",
    "            continue\n",
    "\n",
    "    raise ValueError(f\"Format of date {value} does not match any known pattern.\")"
   ]
  },
  {
   "cell_type": "code",
   "execution_count": 4,
   "metadata": {},
   "outputs": [],
   "source": [
    "def drop_units(value):\n",
    "    if isinstance(value, str):\n",
    "        return float(value.replace(\"kg\", \"\").replace(\",\", \"\").strip())\n",
    "    return value"
   ]
  },
  {
   "cell_type": "code",
   "execution_count": null,
   "metadata": {},
   "outputs": [],
   "source": [
    "class Sale(BaseModel):\n",
    "    model_config = ConfigDict(alias_generator=to_csv)\n",
    "\n",
    "    date: datetime.date\n",
    "    customer_name: str\n",
    "    size_kg: float = Field(alias=\"Size (kg)\")\n",
    "    amount: int\n",
    "    unit_price: int\n",
    "    total_sale: int | None = None\n",
    "\n",
    "    validate_dates = field_validator(\"date\", mode=\"before\")(wrangle_dates)\n",
    "\n",
    "    validate_units = field_validator(\"size_kg\", mode=\"before\")(drop_units)\n",
    "\n",
    "    @model_validator(mode=\"after\")\n",
    "    def calc_total(self):\n",
    "        self.total_sale = self.amount * self.unit_price\n"
   ]
  }
 ],
 "metadata": {
  "kernelspec": {
   "display_name": ".venv",
   "language": "python",
   "name": "python3"
  },
  "language_info": {
   "codemirror_mode": {
    "name": "ipython",
    "version": 3
   },
   "file_extension": ".py",
   "mimetype": "text/x-python",
   "name": "python",
   "nbconvert_exporter": "python",
   "pygments_lexer": "ipython3",
   "version": "3.11.6"
  }
 },
 "nbformat": 4,
 "nbformat_minor": 2
}
